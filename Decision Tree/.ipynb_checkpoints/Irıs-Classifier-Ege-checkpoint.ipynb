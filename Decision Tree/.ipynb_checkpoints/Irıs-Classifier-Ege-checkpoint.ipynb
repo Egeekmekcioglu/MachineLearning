{
 "cells": [
  {
   "cell_type": "code",
   "execution_count": null,
   "id": "47f8ec01-7021-47a5-9d43-e9e541740b4e",
   "metadata": {},
   "outputs": [],
   "source": [
    "from sklearn.datasets import load_iris\n",
    "from sklearn import tree\n",
    "import pydotplus\n",
    "from sklearn import datasets\n",
    "from sklearn import metrics\n",
    "from sklearn.tree import DecisionTreeClassifier\n",
    "from sklearn.model_selection import cross_val_score\n",
    "from sklearn.model_selection import cross_validate\n",
    "from sklearn.model_selection import train_test_split\n",
    "\n",
    "\n",
    "iris = datasets.load_iris()"
   ]
  },
  {
   "cell_type": "code",
   "execution_count": null,
   "id": "536b1b00-f865-40bd-b0d9-da49bdd21541",
   "metadata": {},
   "outputs": [],
   "source": [
    "model = DecisionTreeClassifier()\n",
    "model.fit(iris.data, iris.target)"
   ]
  },
  {
   "cell_type": "code",
   "execution_count": null,
   "id": "cc21da6f-e16f-427c-8ab3-778e16352e44",
   "metadata": {},
   "outputs": [],
   "source": [
    "iris = iris.reshape(1,-1) \n",
    "model.predict([6.7,3.3,5.7,2.5])"
   ]
  },
  {
   "cell_type": "code",
   "execution_count": null,
   "id": "94fb482a-f145-4871-81d3-f7c5c2733921",
   "metadata": {},
   "outputs": [],
   "source": [
    "X_train,X_test,y_train,y_test = train_test_split(iris.data,iris.target,test_size=0.3, random_state= 3)\n",
    "model = DecisionTreeClassifier()\n",
    "model.fit(X_train,y_train)\n",
    "basari_orani = model.score(X_test,y_test)\n",
    "x = input(\"Veri giriniz:\")\n",
    "x = x.split(\",\")\n",
    "x = tuple(x)\n",
    "a = model.predict(x)\n",
    "if int(a)==0:\n",
    "    a = \"Iris Setosa\"\n",
    "elif int(a)==1:\n",
    "    a = \"Iris Virginica\"\n",
    "elif int(a)==2:\n",
    "    a = \"Iris Verticolor\"\n",
    "print(\"Bu bitkinin turu yuzde\",basari_orani*100,\"oraninda\",a)"
   ]
  },
  {
   "cell_type": "code",
   "execution_count": null,
   "id": "0ad18351-1c6c-4063-9d8a-325be0c1e0c3",
   "metadata": {},
   "outputs": [],
   "source": []
  }
 ],
 "metadata": {
  "kernelspec": {
   "display_name": "Python 3",
   "language": "python",
   "name": "python3"
  },
  "language_info": {
   "codemirror_mode": {
    "name": "ipython",
    "version": 3
   },
   "file_extension": ".py",
   "mimetype": "text/x-python",
   "name": "python",
   "nbconvert_exporter": "python",
   "pygments_lexer": "ipython3",
   "version": "3.8.8"
  }
 },
 "nbformat": 4,
 "nbformat_minor": 5
}
