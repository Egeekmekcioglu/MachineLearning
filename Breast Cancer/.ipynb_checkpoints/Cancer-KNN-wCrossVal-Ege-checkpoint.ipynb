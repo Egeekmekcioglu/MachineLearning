{
 "cells": [
  {
   "cell_type": "code",
   "execution_count": 3,
   "id": "5644fde6-fb99-4256-b089-1a1e7fcab94c",
   "metadata": {},
   "outputs": [],
   "source": [
    "import numpy as np\n",
    "from sklearn.impute import SimpleImputer\n",
    "from sklearn.neighbors import KNeighborsClassifier\n",
    "from sklearn.metrics import accuracy_score\n",
    "from sklearn.model_selection import train_test_split\n",
    "import pandas as pd\n",
    "from sklearn.model_selection import cross_validate\n",
    "data = pd.read_csv(\"breast-cancer-wisconsin.data\")"
   ]
  },
  {
   "cell_type": "code",
   "execution_count": 4,
   "id": "b6e42f7d-081c-4747-a9a1-904c376d375b",
   "metadata": {},
   "outputs": [],
   "source": [
    "data.replace('?', -99999, inplace=True)\n",
    "data = data.drop(['id'], axis=1)"
   ]
  },
  {
   "cell_type": "code",
   "execution_count": 5,
   "id": "5ae1375d-fda3-4332-9c5d-9f94952b9ccb",
   "metadata": {},
   "outputs": [],
   "source": [
    "y = np.array(data.benormal)\n",
    "x = np.array(data.drop(['benormal'], axis=1))"
   ]
  },
  {
   "cell_type": "code",
   "execution_count": 6,
   "id": "fc9609ce-0c01-4174-975e-d4867ee11efc",
   "metadata": {},
   "outputs": [],
   "source": [
    "imp = SimpleImputer(missing_values= np.NAN, strategy= 'mean', fill_value=None, verbose=0, copy=True)\n",
    "x = imp.fit_transform(x)"
   ]
  },
  {
   "cell_type": "code",
   "execution_count": 10,
   "id": "a6fb3b76-3f65-44aa-92d6-f1bc68b908f0",
   "metadata": {},
   "outputs": [],
   "source": [
    "X_train, X_test, y_train, y_test = train_test_split(x, y, test_size = 0.2)"
   ]
  },
  {
   "cell_type": "code",
   "execution_count": 13,
   "id": "c882bd6d-b288-4345-b0c3-b1c5ff875988",
   "metadata": {},
   "outputs": [
    {
     "name": "stdout",
     "output_type": "stream",
     "text": [
      "Success Rate : 97.14285714285714\n",
      "[4]\n"
     ]
    }
   ],
   "source": [
    "predict = KNeighborsClassifier()\n",
    "predict.fit(X_train, y_train)\n",
    "successRate = predict.score(X_test, y_test)\n",
    "print(\"Success Rate :\", successRate*100)\n",
    "a = np.array([2, 9, 3, 5, 3, 6, 1, 9, 5]).reshape(1, -1)\n",
    "print(predict.predict(a))             # 2- Bening   4- Malignant"
   ]
  },
  {
   "cell_type": "markdown",
   "id": "02d62b10-014f-4e21-9751-a70963e02e56",
   "metadata": {},
   "source": [
    "# With Cross Validation , Success Rate: 97.1428\n",
    "# Without Cross Validation , Success Rate: 80.25751"
   ]
  },
  {
   "cell_type": "code",
   "execution_count": null,
   "id": "a8dc82f9-a3b9-44fc-8438-27b0500f04d9",
   "metadata": {},
   "outputs": [],
   "source": []
  }
 ],
 "metadata": {
  "kernelspec": {
   "display_name": "Python 3",
   "language": "python",
   "name": "python3"
  },
  "language_info": {
   "codemirror_mode": {
    "name": "ipython",
    "version": 3
   },
   "file_extension": ".py",
   "mimetype": "text/x-python",
   "name": "python",
   "nbconvert_exporter": "python",
   "pygments_lexer": "ipython3",
   "version": "3.8.8"
  }
 },
 "nbformat": 4,
 "nbformat_minor": 5
}
