{
 "cells": [
  {
   "cell_type": "code",
   "execution_count": 1,
   "id": "4abda763-b393-41f2-be3b-782f3e53da7c",
   "metadata": {},
   "outputs": [],
   "source": [
    "import numpy as np\n",
    "import pandas as pd\n",
    "from sklearn.linear_model import LinearRegression as lr\n",
    "import matplotlib.pyplot as plt"
   ]
  },
  {
   "cell_type": "code",
   "execution_count": 2,
   "id": "57e0f3f7-2ae5-4a36-9ad9-afc8cce1bd2e",
   "metadata": {},
   "outputs": [],
   "source": [
    "data = pd.read_csv(\"linear.csv\")"
   ]
  },
  {
   "cell_type": "code",
   "execution_count": 4,
   "id": "7c798640-8b6c-4827-83e9-b4d72c30b967",
   "metadata": {},
   "outputs": [],
   "source": [
    "x = data[\"metrekare\"]\n",
    "y = data[\"fiyat\"]"
   ]
  },
  {
   "cell_type": "code",
   "execution_count": 8,
   "id": "0b363791-bb0b-46cf-bbcf-05ed7b4415c7",
   "metadata": {},
   "outputs": [],
   "source": [
    "x = x.values.reshape(99,1)\n",
    "y = y.values.reshape(99,1)"
   ]
  },
  {
   "cell_type": "code",
   "execution_count": 9,
   "id": "58d3ee99-216f-408f-8d80-3dfc658f0ded",
   "metadata": {},
   "outputs": [],
   "source": [
    "lineerregresyon = lr()"
   ]
  },
  {
   "cell_type": "code",
   "execution_count": 10,
   "id": "90e11a1c-1149-4c87-b43f-bc3b4a93ef59",
   "metadata": {},
   "outputs": [
    {
     "data": {
      "text/plain": [
       "LinearRegression()"
      ]
     },
     "execution_count": 10,
     "metadata": {},
     "output_type": "execute_result"
    }
   ],
   "source": [
    "lineerregresyon.fit(x,y)"
   ]
  },
  {
   "cell_type": "code",
   "execution_count": 11,
   "id": "0a83778c-8252-431d-ad9b-8780549e5fe0",
   "metadata": {},
   "outputs": [
    {
     "data": {
      "text/plain": [
       "array([[140.92713475],\n",
       "       [126.14705817],\n",
       "       [ 59.53153933],\n",
       "       [105.52760185],\n",
       "       [ 28.6232092 ],\n",
       "       [ 34.8992221 ],\n",
       "       [ 75.86364056],\n",
       "       [ 17.64828325],\n",
       "       [ 72.97868043],\n",
       "       [ 35.58715578],\n",
       "       [ 28.71385311],\n",
       "       [171.99848431],\n",
       "       [ 77.86868469],\n",
       "       [152.58197659],\n",
       "       [  6.61961537],\n",
       "       [ 85.7401258 ],\n",
       "       [120.28080264],\n",
       "       [191.59641765],\n",
       "       [108.55987756],\n",
       "       [114.5569289 ],\n",
       "       [114.28924618],\n",
       "       [149.45723034],\n",
       "       [104.72280183],\n",
       "       [ 51.00387282],\n",
       "       [ 79.98313213],\n",
       "       [ 82.70470956],\n",
       "       [162.11507614],\n",
       "       [161.42324319],\n",
       "       [ 61.94365055],\n",
       "       [ 93.23125654],\n",
       "       [ 81.47374107],\n",
       "       [ 84.1235932 ],\n",
       "       [100.09213254],\n",
       "       [  3.97311686],\n",
       "       [ 29.28894042],\n",
       "       [119.16975709],\n",
       "       [121.95153198],\n",
       "       [ 75.96251293],\n",
       "       [ 11.08662674],\n",
       "       [134.16613581],\n",
       "       [ 94.20378641],\n",
       "       [ 29.97307314],\n",
       "       [  9.38807429],\n",
       "       [ 14.41949685],\n",
       "       [148.67828654],\n",
       "       [ 34.41243681],\n",
       "       [104.85680269],\n",
       "       [143.8111792 ],\n",
       "       [ 29.33020881],\n",
       "       [136.34524734],\n",
       "       [155.36118133],\n",
       "       [ 99.21860691],\n",
       "       [164.09987586],\n",
       "       [ 34.73743916],\n",
       "       [101.69833387],\n",
       "       [ 69.82437314],\n",
       "       [105.7122603 ],\n",
       "       [ 59.9137189 ],\n",
       "       [103.3131813 ],\n",
       "       [ 53.69503668],\n",
       "       [146.2453714 ],\n",
       "       [118.15666114],\n",
       "       [ 81.32458338],\n",
       "       [120.36474329],\n",
       "       [ 89.32994   ],\n",
       "       [ 58.70311215],\n",
       "       [157.55181057],\n",
       "       [ 50.2298573 ],\n",
       "       [ 53.34904495],\n",
       "       [ 94.37903143],\n",
       "       [ 92.83912422],\n",
       "       [135.58077693],\n",
       "       [169.6810533 ],\n",
       "       [165.17220699],\n",
       "       [110.17466901],\n",
       "       [166.79338508],\n",
       "       [ 61.4146259 ],\n",
       "       [ 90.28716602],\n",
       "       [151.16221745],\n",
       "       [123.96453321],\n",
       "       [138.84176286],\n",
       "       [ 47.33002777],\n",
       "       [131.4825062 ],\n",
       "       [144.81532731],\n",
       "       [ 41.19199468],\n",
       "       [102.90958984],\n",
       "       [116.0738539 ],\n",
       "       [126.65199183],\n",
       "       [140.54721089],\n",
       "       [ 77.12502497],\n",
       "       [ 43.45030655],\n",
       "       [162.05341755],\n",
       "       [ 41.88263794],\n",
       "       [ 64.64557506],\n",
       "       [146.31582925],\n",
       "       [111.2271728 ],\n",
       "       [ 41.52107453],\n",
       "       [145.32073074],\n",
       "       [137.43881557]])"
      ]
     },
     "execution_count": 11,
     "metadata": {},
     "output_type": "execute_result"
    }
   ],
   "source": [
    "lineerregresyon.predict(x)"
   ]
  },
  {
   "cell_type": "code",
   "execution_count": 16,
   "id": "819d1d6d-3fd2-49af-afc0-12a299ae2c54",
   "metadata": {},
   "outputs": [
    {
     "name": "stdout",
     "output_type": "stream",
     "text": [
      "Eğim: \n",
      " [[1.70655779]]\n"
     ]
    }
   ],
   "source": [
    "print(\"Eğim: \\n\", lineerregresyon.coef_)"
   ]
  },
  {
   "cell_type": "code",
   "execution_count": 17,
   "id": "071140fd-fa1d-4f37-806c-4390ec141a46",
   "metadata": {},
   "outputs": [
    {
     "name": "stdout",
     "output_type": "stream",
     "text": [
      "Y de kesiştiği yer: \n",
      " [-0.0059023]\n"
     ]
    }
   ],
   "source": [
    "print(\"Y de kesiştiği yer: \\n\", lineerregresyon.intercept_)"
   ]
  },
  {
   "cell_type": "code",
   "execution_count": 18,
   "id": "476f2c5d-bf13-498c-8f9e-811b8e2c3559",
   "metadata": {},
   "outputs": [
    {
     "name": "stdout",
     "output_type": "stream",
     "text": [
      "Denklem: \n",
      "\n",
      "y= [[1.70655779]] x+ [-0.0059023]\n"
     ]
    }
   ],
   "source": [
    "print(\"Denklem: \\n\")\n",
    "m = lineerregresyon.coef_\n",
    "b = lineerregresyon.intercept_\n",
    "print(\"y=\", m , \"x+\",b)"
   ]
  },
  {
   "cell_type": "code",
   "execution_count": 23,
   "id": "6ac5693a-2187-461a-877b-1bc61a0ec32f",
   "metadata": {},
   "outputs": [],
   "source": [
    "a = np.arange(150)\n"
   ]
  },
  {
   "cell_type": "code",
   "execution_count": 26,
   "id": "63952043-a67a-43a0-b8fe-a631728c0d99",
   "metadata": {},
   "outputs": [
    {
     "data": {
      "image/png": "[encoded data removed]",
      "text/plain": [
       "<Figure size 432x288 with 1 Axes>"
      ]
     },
     "metadata": {
      "needs_background": "light"
     },
     "output_type": "display_data"
    }
   ],
   "source": [
    "plt.scatter(x,y) # Gerçek verilerimizi nokta nokta, scatter ile cizdiriyoruz.\n",
    "plt.scatter(a,m*a+b, c=\"black\",marker=\">\")\n",
    "plt.show()"
   ]
  },
  {
   "cell_type": "code",
   "execution_count": null,
   "id": "cdec10fc-b2d2-4cbb-98a2-337e46ee732e",
   "metadata": {},
   "outputs": [],
   "source": []
  }
 ],
 "metadata": {
  "kernelspec": {
   "display_name": "Python 3",
   "language": "python",
   "name": "python3"
  },
  "language_info": {
   "codemirror_mode": {
    "name": "ipython",
    "version": 3
   },
   "file_extension": ".py",
   "mimetype": "text/x-python",
   "name": "python",
   "nbconvert_exporter": "python",
   "pygments_lexer": "ipython3",
   "version": "3.8.8"
  }
 },
 "nbformat": 4,
 "nbformat_minor": 5
}
